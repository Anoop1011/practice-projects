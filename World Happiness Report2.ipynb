{
 "cells": [
  {
   "cell_type": "code",
   "execution_count": 1,
   "id": "fe3d8269",
   "metadata": {},
   "outputs": [],
   "source": [
    "import pandas as pd\n",
    "import matplotlib.pyplot as plt\n",
    "import pickle\n",
    "import seaborn as sns\n",
    "%matplotlib inline"
   ]
  },
  {
   "cell_type": "code",
   "execution_count": 2,
   "id": "47087d4b",
   "metadata": {},
   "outputs": [
    {
     "data": {
      "text/html": [
       "<div>\n",
       "<style scoped>\n",
       "    .dataframe tbody tr th:only-of-type {\n",
       "        vertical-align: middle;\n",
       "    }\n",
       "\n",
       "    .dataframe tbody tr th {\n",
       "        vertical-align: top;\n",
       "    }\n",
       "\n",
       "    .dataframe thead th {\n",
       "        text-align: right;\n",
       "    }\n",
       "</style>\n",
       "<table border=\"1\" class=\"dataframe\">\n",
       "  <thead>\n",
       "    <tr style=\"text-align: right;\">\n",
       "      <th></th>\n",
       "      <th>Country</th>\n",
       "      <th>Region</th>\n",
       "      <th>Happiness Rank</th>\n",
       "      <th>Happiness Score</th>\n",
       "      <th>Standard Error</th>\n",
       "      <th>Economy (GDP per Capita)</th>\n",
       "      <th>Family</th>\n",
       "      <th>Health (Life Expectancy)</th>\n",
       "      <th>Freedom</th>\n",
       "      <th>Trust (Government Corruption)</th>\n",
       "      <th>Generosity</th>\n",
       "      <th>Dystopia Residual</th>\n",
       "    </tr>\n",
       "  </thead>\n",
       "  <tbody>\n",
       "    <tr>\n",
       "      <th>0</th>\n",
       "      <td>Switzerland</td>\n",
       "      <td>Western Europe</td>\n",
       "      <td>1</td>\n",
       "      <td>7.587</td>\n",
       "      <td>0.03411</td>\n",
       "      <td>1.39651</td>\n",
       "      <td>1.34951</td>\n",
       "      <td>0.94143</td>\n",
       "      <td>0.66557</td>\n",
       "      <td>0.41978</td>\n",
       "      <td>0.29678</td>\n",
       "      <td>2.51738</td>\n",
       "    </tr>\n",
       "    <tr>\n",
       "      <th>1</th>\n",
       "      <td>Iceland</td>\n",
       "      <td>Western Europe</td>\n",
       "      <td>2</td>\n",
       "      <td>7.561</td>\n",
       "      <td>0.04884</td>\n",
       "      <td>1.30232</td>\n",
       "      <td>1.40223</td>\n",
       "      <td>0.94784</td>\n",
       "      <td>0.62877</td>\n",
       "      <td>0.14145</td>\n",
       "      <td>0.43630</td>\n",
       "      <td>2.70201</td>\n",
       "    </tr>\n",
       "    <tr>\n",
       "      <th>2</th>\n",
       "      <td>Denmark</td>\n",
       "      <td>Western Europe</td>\n",
       "      <td>3</td>\n",
       "      <td>7.527</td>\n",
       "      <td>0.03328</td>\n",
       "      <td>1.32548</td>\n",
       "      <td>1.36058</td>\n",
       "      <td>0.87464</td>\n",
       "      <td>0.64938</td>\n",
       "      <td>0.48357</td>\n",
       "      <td>0.34139</td>\n",
       "      <td>2.49204</td>\n",
       "    </tr>\n",
       "    <tr>\n",
       "      <th>3</th>\n",
       "      <td>Norway</td>\n",
       "      <td>Western Europe</td>\n",
       "      <td>4</td>\n",
       "      <td>7.522</td>\n",
       "      <td>0.03880</td>\n",
       "      <td>1.45900</td>\n",
       "      <td>1.33095</td>\n",
       "      <td>0.88521</td>\n",
       "      <td>0.66973</td>\n",
       "      <td>0.36503</td>\n",
       "      <td>0.34699</td>\n",
       "      <td>2.46531</td>\n",
       "    </tr>\n",
       "    <tr>\n",
       "      <th>4</th>\n",
       "      <td>Canada</td>\n",
       "      <td>North America</td>\n",
       "      <td>5</td>\n",
       "      <td>7.427</td>\n",
       "      <td>0.03553</td>\n",
       "      <td>1.32629</td>\n",
       "      <td>1.32261</td>\n",
       "      <td>0.90563</td>\n",
       "      <td>0.63297</td>\n",
       "      <td>0.32957</td>\n",
       "      <td>0.45811</td>\n",
       "      <td>2.45176</td>\n",
       "    </tr>\n",
       "  </tbody>\n",
       "</table>\n",
       "</div>"
      ],
      "text/plain": [
       "       Country          Region  Happiness Rank  Happiness Score  \\\n",
       "0  Switzerland  Western Europe               1            7.587   \n",
       "1      Iceland  Western Europe               2            7.561   \n",
       "2      Denmark  Western Europe               3            7.527   \n",
       "3       Norway  Western Europe               4            7.522   \n",
       "4       Canada   North America               5            7.427   \n",
       "\n",
       "   Standard Error  Economy (GDP per Capita)   Family  \\\n",
       "0         0.03411                   1.39651  1.34951   \n",
       "1         0.04884                   1.30232  1.40223   \n",
       "2         0.03328                   1.32548  1.36058   \n",
       "3         0.03880                   1.45900  1.33095   \n",
       "4         0.03553                   1.32629  1.32261   \n",
       "\n",
       "   Health (Life Expectancy)  Freedom  Trust (Government Corruption)  \\\n",
       "0                   0.94143  0.66557                        0.41978   \n",
       "1                   0.94784  0.62877                        0.14145   \n",
       "2                   0.87464  0.64938                        0.48357   \n",
       "3                   0.88521  0.66973                        0.36503   \n",
       "4                   0.90563  0.63297                        0.32957   \n",
       "\n",
       "   Generosity  Dystopia Residual  \n",
       "0     0.29678            2.51738  \n",
       "1     0.43630            2.70201  \n",
       "2     0.34139            2.49204  \n",
       "3     0.34699            2.46531  \n",
       "4     0.45811            2.45176  "
      ]
     },
     "execution_count": 2,
     "metadata": {},
     "output_type": "execute_result"
    }
   ],
   "source": [
    "data = pd.read_csv('https://raw.githubusercontent.com/dsrscientist/DSData/master/happiness_score_dataset.csv')\n",
    "data.head()"
   ]
  },
  {
   "cell_type": "code",
   "execution_count": 3,
   "id": "3f9927a0",
   "metadata": {},
   "outputs": [
    {
     "data": {
      "text/plain": [
       "(158, 12)"
      ]
     },
     "execution_count": 3,
     "metadata": {},
     "output_type": "execute_result"
    }
   ],
   "source": [
    "data.shape"
   ]
  },
  {
   "cell_type": "code",
   "execution_count": 4,
   "id": "d2adb4fd",
   "metadata": {},
   "outputs": [
    {
     "name": "stdout",
     "output_type": "stream",
     "text": [
      "<class 'pandas.core.frame.DataFrame'>\n",
      "RangeIndex: 158 entries, 0 to 157\n",
      "Data columns (total 12 columns):\n",
      " #   Column                         Non-Null Count  Dtype  \n",
      "---  ------                         --------------  -----  \n",
      " 0   Country                        158 non-null    object \n",
      " 1   Region                         158 non-null    object \n",
      " 2   Happiness Rank                 158 non-null    int64  \n",
      " 3   Happiness Score                158 non-null    float64\n",
      " 4   Standard Error                 158 non-null    float64\n",
      " 5   Economy (GDP per Capita)       158 non-null    float64\n",
      " 6   Family                         158 non-null    float64\n",
      " 7   Health (Life Expectancy)       158 non-null    float64\n",
      " 8   Freedom                        158 non-null    float64\n",
      " 9   Trust (Government Corruption)  158 non-null    float64\n",
      " 10  Generosity                     158 non-null    float64\n",
      " 11  Dystopia Residual              158 non-null    float64\n",
      "dtypes: float64(9), int64(1), object(2)\n",
      "memory usage: 14.9+ KB\n"
     ]
    }
   ],
   "source": [
    "data.info()"
   ]
  },
  {
   "cell_type": "code",
   "execution_count": 5,
   "id": "9df09397",
   "metadata": {},
   "outputs": [
    {
     "data": {
      "text/plain": [
       "Country                          0\n",
       "Region                           0\n",
       "Happiness Rank                   0\n",
       "Happiness Score                  0\n",
       "Standard Error                   0\n",
       "Economy (GDP per Capita)         0\n",
       "Family                           0\n",
       "Health (Life Expectancy)         0\n",
       "Freedom                          0\n",
       "Trust (Government Corruption)    0\n",
       "Generosity                       0\n",
       "Dystopia Residual                0\n",
       "dtype: int64"
      ]
     },
     "execution_count": 5,
     "metadata": {},
     "output_type": "execute_result"
    }
   ],
   "source": [
    "data.isna().sum()"
   ]
  },
  {
   "cell_type": "code",
   "execution_count": 6,
   "id": "2f35b1e1",
   "metadata": {
    "scrolled": true
   },
   "outputs": [
    {
     "data": {
      "image/png": "[encoded data removed]",
      "text/plain": [
       "<Figure size 1440x720 with 6 Axes>"
      ]
     },
     "metadata": {
      "needs_background": "light"
     },
     "output_type": "display_data"
    }
   ],
   "source": [
    "fig, axs = plt.subplots(1,6)\n",
    "data.plot(kind = 'scatter', x = 'Economy (GDP per Capita)', y = 'Happiness Score', ax = axs[0], figsize = (20,10))\n",
    "data.plot(kind = 'scatter', x = 'Family', y = 'Happiness Score', ax = axs[1])\n",
    "data.plot(kind = 'scatter', x = 'Health (Life Expectancy)', y = 'Happiness Score', ax = axs[2])\n",
    "data.plot(kind = 'scatter', x = 'Freedom', y = 'Happiness Score', ax = axs[3])\n",
    "data.plot(kind = 'scatter', x = 'Trust (Government Corruption)', y = 'Happiness Score', ax = axs[4])\n",
    "data.plot(kind = 'scatter', x = 'Generosity', y = 'Happiness Score', ax = axs[5])\n",
    "\n",
    "fig.savefig('testdata.jpg')"
   ]
  },
  {
   "cell_type": "code",
   "execution_count": 8,
   "id": "89b89642",
   "metadata": {},
   "outputs": [
    {
     "data": {
      "text/plain": [
       "LinearRegression()"
      ]
     },
     "execution_count": 8,
     "metadata": {},
     "output_type": "execute_result"
    }
   ],
   "source": [
    "X = data[['Economy (GDP per Capita)', 'Family', 'Health (Life Expectancy)', 'Freedom']]\n",
    "Y = data['Happiness Score']\n",
    "\n",
    "from sklearn.linear_model import LinearRegression\n",
    "lm = LinearRegression()\n",
    "lm.fit(X,Y)"
   ]
  },
  {
   "cell_type": "code",
   "execution_count": 9,
   "id": "592c5ef5",
   "metadata": {},
   "outputs": [
    {
     "name": "stdout",
     "output_type": "stream",
     "text": [
      "1.8963411367389136\n",
      "[0.88258756 1.35810555 0.99594485 1.77071357]\n"
     ]
    }
   ],
   "source": [
    "print (lm.intercept_)\n",
    "print(lm.coef_)"
   ]
  },
  {
   "cell_type": "code",
   "execution_count": 10,
   "id": "e208d45d",
   "metadata": {
    "scrolled": true
   },
   "outputs": [
    {
     "data": {
      "text/plain": [
       "array([7.0778067 , 7.00749685, 6.93496373, 7.05912731, 6.88591828,\n",
       "       6.84718968, 6.78784831, 6.89787804, 6.82883087, 6.93235668,\n",
       "       6.28469312, 6.40006128, 6.83039974, 5.70334298, 6.64600108,\n",
       "       5.99944972, 6.93868702, 6.92093423, 6.72468473, 6.62692428,\n",
       "       6.72137116, 6.44605125, 6.00107658, 6.60652349, 6.21597244,\n",
       "       6.80985337, 6.03718658, 6.78119913, 6.65186487, 6.10178243,\n",
       "       6.23773123, 6.35230981, 6.02608878, 6.18892817, 5.86710442,\n",
       "       6.53169182, 6.682775  , 6.07272858, 6.55625463, 5.75698269,\n",
       "       6.17514181, 5.35237397, 5.6355248 , 6.03576777, 6.0008267 ,\n",
       "       6.59081254, 5.84501425, 5.66335243, 6.26612071, 6.04243376,\n",
       "       5.38010952, 4.99674483, 5.95168721, 5.96705786, 6.6196086 ,\n",
       "       5.72284213, 5.69310526, 5.47641808, 5.88636404, 6.34391583,\n",
       "       6.00252136, 5.17632357, 5.85291578, 5.89528347, 5.75258488,\n",
       "       6.20378402, 5.81565381, 5.31021185, 4.77346576, 5.78794732,\n",
       "       5.8230555 , 6.62142087, 6.14579472, 5.56442172, 5.48953781,\n",
       "       5.2506924 , 5.29641169, 4.46940201, 5.58945279, 5.36736977,\n",
       "       3.71113007, 5.53730794, 5.03177791, 5.69641085, 4.71829318,\n",
       "       5.4071315 , 5.18134982, 6.25043037, 5.6135556 , 5.61098053,\n",
       "       4.61673169, 4.76063182, 5.39315827, 4.05707341, 5.2069042 ,\n",
       "       4.83047889, 4.27985116, 5.9650565 , 5.02202223, 5.76637095,\n",
       "       4.60004495, 5.19190844, 5.3246773 , 5.8428989 , 5.11987699,\n",
       "       4.81052427, 4.69477374, 4.77303528, 4.15462669, 4.75316091,\n",
       "       5.35111618, 4.4781887 , 5.18143271, 4.45019843, 4.32943623,\n",
       "       3.87747555, 4.20174102, 4.27919456, 3.96024479, 3.75400857,\n",
       "       4.63241309, 4.09319285, 4.20892133, 4.26376461, 4.73482763,\n",
       "       4.26627078, 4.7081248 , 5.19743473, 4.35847626, 4.5196507 ,\n",
       "       3.45620908, 5.67401331, 4.5809761 , 5.59690576, 4.60985014,\n",
       "       4.33231709, 4.08368673, 4.42550087, 4.43910111, 3.95141533,\n",
       "       4.76823585, 4.62899818, 5.05862829, 4.14728702, 4.93637654,\n",
       "       4.47257591, 3.79236834, 2.89784969, 3.79675326, 3.58835906,\n",
       "       4.33544437, 4.25055554, 3.3066273 , 4.61829439, 3.80563082,\n",
       "       4.12334513, 2.90752145, 3.19934119])"
      ]
     },
     "execution_count": 10,
     "metadata": {},
     "output_type": "execute_result"
    }
   ],
   "source": [
    "lm.predict(X)"
   ]
  },
  {
   "cell_type": "code",
   "execution_count": 11,
   "id": "f77ed92d",
   "metadata": {
    "scrolled": true
   },
   "outputs": [
    {
     "data": {
      "text/plain": [
       "Intercept    1.315877e-18\n",
       "X[0]         5.053161e-05\n",
       "X[1]         8.370038e-09\n",
       "X[2]         1.779550e-03\n",
       "X[3]         3.655042e-07\n",
       "dtype: float64"
      ]
     },
     "execution_count": 11,
     "metadata": {},
     "output_type": "execute_result"
    }
   ],
   "source": [
    "import statsmodels.formula.api as smf\n",
    "lm = smf.ols(formula = 'Y ~ X', data = data).fit()\n",
    "lm.pvalues"
   ]
  },
  {
   "cell_type": "code",
   "execution_count": 12,
   "id": "a522b00d",
   "metadata": {
    "scrolled": true
   },
   "outputs": [
    {
     "data": {
      "text/plain": [
       "0.7699839204155501"
      ]
     },
     "execution_count": 12,
     "metadata": {},
     "output_type": "execute_result"
    }
   ],
   "source": [
    "lm.rsquared"
   ]
  },
  {
   "cell_type": "code",
   "execution_count": 13,
   "id": "ebc2e93b",
   "metadata": {},
   "outputs": [
    {
     "name": "stdout",
     "output_type": "stream",
     "text": [
      "intercept : --> 1.8963411367389136\n",
      "Economy (GDP per Capita) :        --> 0.8825875636298159\n",
      "Family :     --> 1.3581055477027755\n",
      "Health (Life Expectancy) : --> 0.9959448475728669\n",
      "Freedom : --> 1.7707135731263834\n"
     ]
    }
   ],
   "source": [
    "x = data [['Economy (GDP per Capita)', 'Family', 'Health (Life Expectancy)', 'Freedom']]\n",
    "y = data['Happiness Score']\n",
    "\n",
    "lm = LinearRegression()\n",
    "lm.fit(x,y)\n",
    "\n",
    "print ('intercept : -->',lm.intercept_)\n",
    "print ('Economy (GDP per Capita) :        -->',lm.coef_[0])\n",
    "print ('Family :     -->',lm.coef_[1])\n",
    "print ('Health (Life Expectancy) : -->',lm.coef_[2])\n",
    "print ('Freedom : -->',lm.coef_[3])"
   ]
  },
  {
   "cell_type": "code",
   "execution_count": 14,
   "id": "e2762dcb",
   "metadata": {},
   "outputs": [
    {
     "ename": "SyntaxError",
     "evalue": "invalid syntax (<unknown>, line 1)",
     "output_type": "error",
     "traceback": [
      "Traceback \u001b[1;36m(most recent call last)\u001b[0m:\n",
      "  File \u001b[0;32m\"C:\\Users\\dell\\Anaconda3\\lib\\site-packages\\IPython\\core\\interactiveshell.py\"\u001b[0m, line \u001b[0;32m3444\u001b[0m, in \u001b[0;35mrun_code\u001b[0m\n    exec(code_obj, self.user_global_ns, self.user_ns)\n",
      "  File \u001b[0;32m\"C:\\Users\\dell\\AppData\\Local\\Temp/ipykernel_11444/575662847.py\"\u001b[0m, line \u001b[0;32m1\u001b[0m, in \u001b[0;35m<module>\u001b[0m\n    lm = smf.ols(formula = 'Happiness Score ~ Economy (GDP per Capita) + Family + Health(Life Expectancy) + Freedom', data = data).fit()\n",
      "  File \u001b[0;32m\"C:\\Users\\dell\\Anaconda3\\lib\\site-packages\\statsmodels\\base\\model.py\"\u001b[0m, line \u001b[0;32m169\u001b[0m, in \u001b[0;35mfrom_formula\u001b[0m\n    tmp = handle_formula_data(data, None, formula, depth=eval_env,\n",
      "  File \u001b[0;32m\"C:\\Users\\dell\\Anaconda3\\lib\\site-packages\\statsmodels\\formula\\formulatools.py\"\u001b[0m, line \u001b[0;32m63\u001b[0m, in \u001b[0;35mhandle_formula_data\u001b[0m\n    result = dmatrices(formula, Y, depth, return_type='dataframe',\n",
      "  File \u001b[0;32m\"C:\\Users\\dell\\Anaconda3\\lib\\site-packages\\patsy\\highlevel.py\"\u001b[0m, line \u001b[0;32m309\u001b[0m, in \u001b[0;35mdmatrices\u001b[0m\n    (lhs, rhs) = _do_highlevel_design(formula_like, data, eval_env,\n",
      "  File \u001b[0;32m\"C:\\Users\\dell\\Anaconda3\\lib\\site-packages\\patsy\\highlevel.py\"\u001b[0m, line \u001b[0;32m164\u001b[0m, in \u001b[0;35m_do_highlevel_design\u001b[0m\n    design_infos = _try_incr_builders(formula_like, data_iter_maker, eval_env,\n",
      "  File \u001b[0;32m\"C:\\Users\\dell\\Anaconda3\\lib\\site-packages\\patsy\\highlevel.py\"\u001b[0m, line \u001b[0;32m66\u001b[0m, in \u001b[0;35m_try_incr_builders\u001b[0m\n    return design_matrix_builders([formula_like.lhs_termlist,\n",
      "  File \u001b[0;32m\"C:\\Users\\dell\\Anaconda3\\lib\\site-packages\\patsy\\build.py\"\u001b[0m, line \u001b[0;32m689\u001b[0m, in \u001b[0;35mdesign_matrix_builders\u001b[0m\n    factor_states = _factors_memorize(all_factors, data_iter_maker, eval_env)\n",
      "  File \u001b[0;32m\"C:\\Users\\dell\\Anaconda3\\lib\\site-packages\\patsy\\build.py\"\u001b[0m, line \u001b[0;32m354\u001b[0m, in \u001b[0;35m_factors_memorize\u001b[0m\n    which_pass = factor.memorize_passes_needed(state, eval_env)\n",
      "  File \u001b[0;32m\"C:\\Users\\dell\\Anaconda3\\lib\\site-packages\\patsy\\eval.py\"\u001b[0m, line \u001b[0;32m474\u001b[0m, in \u001b[0;35mmemorize_passes_needed\u001b[0m\n    subset_names = [name for name in ast_names(self.code)\n",
      "  File \u001b[0;32m\"C:\\Users\\dell\\Anaconda3\\lib\\site-packages\\patsy\\eval.py\"\u001b[0m, line \u001b[0;32m474\u001b[0m, in \u001b[0;35m<listcomp>\u001b[0m\n    subset_names = [name for name in ast_names(self.code)\n",
      "  File \u001b[0;32m\"C:\\Users\\dell\\Anaconda3\\lib\\site-packages\\patsy\\eval.py\"\u001b[0m, line \u001b[0;32m105\u001b[0m, in \u001b[0;35mast_names\u001b[0m\n    for node in ast.walk(ast.parse(code)):\n",
      "\u001b[1;36m  File \u001b[1;32m\"C:\\Users\\dell\\Anaconda3\\lib\\ast.py\"\u001b[1;36m, line \u001b[1;32m50\u001b[1;36m, in \u001b[1;35mparse\u001b[1;36m\u001b[0m\n\u001b[1;33m    return compile(source, filename, mode, flags,\u001b[0m\n",
      "\u001b[1;36m  File \u001b[1;32m\"<unknown>\"\u001b[1;36m, line \u001b[1;32m1\u001b[0m\n\u001b[1;33m    Economy(GDP per Capita)\u001b[0m\n\u001b[1;37m                ^\u001b[0m\n\u001b[1;31mSyntaxError\u001b[0m\u001b[1;31m:\u001b[0m invalid syntax\n"
     ]
    }
   ],
   "source": [
    "lm = smf.ols(formula = 'Happiness Score ~ Economy (GDP per Capita) + Family + Health(Life Expectancy) + Freedom', data = data).fit()\n",
    "lm.summary()"
   ]
  }
 ],
 "metadata": {
  "kernelspec": {
   "display_name": "Python 3 (ipykernel)",
   "language": "python",
   "name": "python3"
  },
  "language_info": {
   "codemirror_mode": {
    "name": "ipython",
    "version": 3
   },
   "file_extension": ".py",
   "mimetype": "text/x-python",
   "name": "python",
   "nbconvert_exporter": "python",
   "pygments_lexer": "ipython3",
   "version": "3.9.7"
  }
 },
 "nbformat": 4,
 "nbformat_minor": 5
}
